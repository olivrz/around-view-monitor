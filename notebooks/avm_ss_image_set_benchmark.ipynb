{
 "cells": [
  {
   "cell_type": "markdown",
   "metadata": {},
   "source": [
    "# Semantic Segmentation for Around View Monitoring System"
   ]
  },
  {
   "cell_type": "markdown",
   "metadata": {},
   "source": [
    "## packages"
   ]
  },
  {
   "cell_type": "code",
   "execution_count": 1,
   "metadata": {
    "ExecuteTime": {
     "end_time": "2023-12-12T23:52:11.698413Z",
     "start_time": "2023-12-12T23:52:09.757775600Z"
    }
   },
   "outputs": [
    {
     "ename": "ModuleNotFoundError",
     "evalue": "No module named 'cv2'",
     "output_type": "error",
     "traceback": [
      "\u001B[1;31m---------------------------------------------------------------------------\u001B[0m",
      "\u001B[1;31mModuleNotFoundError\u001B[0m                       Traceback (most recent call last)",
      "Cell \u001B[1;32mIn[1], line 1\u001B[0m\n\u001B[1;32m----> 1\u001B[0m \u001B[38;5;28;01mimport\u001B[39;00m \u001B[38;5;21;01mcv2\u001B[39;00m\u001B[38;5;241m,\u001B[39m \u001B[38;5;21;01mos\u001B[39;00m\n\u001B[0;32m      2\u001B[0m \u001B[38;5;28;01mimport\u001B[39;00m \u001B[38;5;21;01mnumpy\u001B[39;00m \u001B[38;5;28;01mas\u001B[39;00m \u001B[38;5;21;01mnp\u001B[39;00m\n\u001B[0;32m      3\u001B[0m \u001B[38;5;28;01mimport\u001B[39;00m \u001B[38;5;21;01mtime\u001B[39;00m\n",
      "\u001B[1;31mModuleNotFoundError\u001B[0m: No module named 'cv2'"
     ]
    }
   ],
   "source": [
    "import cv2, os\n",
    "import numpy as np\n",
    "import time\n",
    "import matplotlib.pyplot as plt\n",
    "from modules import sementic_segmentation"
   ]
  },
  {
   "cell_type": "markdown",
   "source": [],
   "metadata": {
    "collapsed": false
   }
  },
  {
   "cell_type": "markdown",
   "metadata": {},
   "source": [
    "## initialization"
   ]
  },
  {
   "cell_type": "code",
   "execution_count": null,
   "metadata": {
    "scrolled": true,
    "ExecuteTime": {
     "end_time": "2023-12-12T23:52:11.703428400Z",
     "start_time": "2023-12-12T23:52:11.699421100Z"
    }
   },
   "outputs": [],
   "source": [
    "# module initialization\n",
    "model_path = './models/model_v1_0.pb'\n",
    "ss = sementic_segmentation.avm_ss(model_path)\n",
    "images_directory = './library/frameset1'\n",
    "image_files = sorted([os.path.join(images_directory, file) for file in os.listdir(images_directory) if file.endswith(('.jpg', '.png', '.jpeg'))])"
   ]
  },
  {
   "cell_type": "markdown",
   "metadata": {},
   "source": [
    "## inference"
   ]
  },
  {
   "cell_type": "code",
   "execution_count": null,
   "metadata": {
    "ExecuteTime": {
     "end_time": "2023-12-12T23:52:11.711433300Z",
     "start_time": "2023-12-12T23:52:11.707433700Z"
    }
   },
   "outputs": [],
   "source": [
    "resolutions = [\n",
    "    (160, 120),\n",
    "    (200, 160),\n",
    "    (320, 240)  \n",
    "]\n",
    "\n",
    "time_data = []\n",
    "MAX_FRAMES =  len(image_files)\n",
    "print(MAX_FRAMES)\n",
    "for resolution in resolutions:\n",
    "    print('showing resolution:', resolution)\n",
    "    \n",
    "    total_time = time.time()\n",
    "    start_time = time.time()\n",
    "    frame_count = 0\n",
    "    frame_num = 0\n",
    "    \n",
    "    # Process each image, perform inference, and add to the video\n",
    "    for img_name in image_files:\n",
    "        img = cv2.imread(img_name)\n",
    "        time1 = time.time()\n",
    "        output = ss.run(img)\n",
    "        processed_img = output['img_overlay']\n",
    "        time2 = time.time()\n",
    "        time_data.append(time2 - time1)\n",
    "        if frame_num % 5 == 0:\n",
    "            print(\"end loop \", frame_num)\n",
    "        frame_num += 1\n",
    "    \n",
    "    #after while loop, consolidate time_data for last max_frames\n",
    "    print(\"before reformat\", time_data)\n",
    "    time_data[-1 * MAX_FRAMES:] = [sum (time_data[-1 * MAX_FRAMES:]) / MAX_FRAMES]\n",
    "    print(\"after reformat\", time_data)\n",
    "\n",
    "resolution_labels = [f\"{res[0]}x{res[1]}\" for res in resolutions]\n",
    "plt.figure(figsize=(8, 6))\n",
    "plt.bar(resolution_labels, time_data)\n",
    "plt.xlabel('Input Image Resolution')\n",
    "plt.ylabel('Semantic Segmentation Runtime (s)')\n",
    "plt.show()\n",
    "\n"
   ]
  }
 ],
 "metadata": {
  "kernelspec": {
   "display_name": "Python 3 (ipykernel)",
   "language": "python",
   "name": "python3"
  },
  "language_info": {
   "codemirror_mode": {
    "name": "ipython",
    "version": 3
   },
   "file_extension": ".py",
   "mimetype": "text/x-python",
   "name": "python",
   "nbconvert_exporter": "python",
   "pygments_lexer": "ipython3",
   "version": "3.8.18"
  }
 },
 "nbformat": 4,
 "nbformat_minor": 4
}
