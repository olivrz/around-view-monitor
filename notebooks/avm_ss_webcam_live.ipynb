{
 "cells": [
  {
   "cell_type": "markdown",
   "metadata": {},
   "source": [
    "# Semantic Segmentation for Around View Monitoring System"
   ]
  },
  {
   "cell_type": "markdown",
   "metadata": {},
   "source": [
    "## packages"
   ]
  },
  {
   "cell_type": "code",
   "execution_count": 1,
   "metadata": {
    "ExecuteTime": {
     "end_time": "2023-12-08T22:32:41.562909400Z",
     "start_time": "2023-12-08T22:32:38.746360900Z"
    }
   },
   "outputs": [],
   "source": [
    "import cv2, os\n",
    "import time\n",
    "import numpy as np\n",
    "import matplotlib.pyplot as plt\n",
    "from modules import sementic_segmentation"
   ]
  },
  {
   "cell_type": "markdown",
   "source": [],
   "metadata": {
    "collapsed": false
   }
  },
  {
   "cell_type": "markdown",
   "metadata": {},
   "source": [
    "## initialization"
   ]
  },
  {
   "cell_type": "code",
   "execution_count": 2,
   "metadata": {
    "scrolled": true,
    "ExecuteTime": {
     "end_time": "2023-12-08T22:32:42.987909800Z",
     "start_time": "2023-12-08T22:32:41.563910600Z"
    }
   },
   "outputs": [
    {
     "name": "stdout",
     "output_type": "stream",
     "text": [
      "[avm_ss] model graphs are built\n"
     ]
    }
   ],
   "source": [
    "# module initialization\n",
    "model_path = './models/model_v1_0.pb'\n",
    "ss = sementic_segmentation.avm_ss(model_path)"
   ]
  },
  {
   "cell_type": "markdown",
   "metadata": {},
   "source": [
    "## inference"
   ]
  },
  {
   "cell_type": "code",
   "execution_count": 3,
   "metadata": {
    "ExecuteTime": {
     "end_time": "2023-12-08T22:34:15.336647600Z",
     "start_time": "2023-12-08T22:32:42.988909600Z"
    }
   },
   "outputs": [
    {
     "name": "stdout",
     "output_type": "stream",
     "text": [
      "showing resolution: (160, 120)\n",
      "end loop  0\n",
      "end loop  1\n",
      "end loop  2\n",
      "end loop  3\n",
      "end loop  4\n",
      "end loop  5\n",
      "end loop  6\n",
      "end loop  7\n",
      "end loop  8\n",
      "end loop  9\n",
      "end loop  10\n",
      "end loop  11\n",
      "end loop  12\n",
      "end loop  13\n",
      "end loop  14\n",
      "end loop  15\n",
      "end loop  16\n",
      "end loop  17\n",
      "end loop  18\n",
      "end loop  19\n",
      "end loop  20\n",
      "end loop  21\n",
      "end loop  22\n",
      "end loop  23\n",
      "end loop  24\n",
      "end loop  25\n",
      "end loop  26\n",
      "end loop  27\n",
      "end loop  28\n",
      "end loop  29\n",
      "end loop  30\n",
      "end loop  31\n",
      "end loop  32\n",
      "end loop  33\n",
      "end loop  34\n",
      "end loop  35\n",
      "end loop  36\n",
      "end loop  37\n",
      "end loop  38\n",
      "end loop  39\n",
      "end loop  40\n",
      "end loop  41\n",
      "end loop  42\n",
      "end loop  43\n",
      "end loop  44\n",
      "end loop  45\n",
      "end loop  46\n",
      "end loop  47\n",
      "end loop  48\n",
      "end loop  49\n",
      "before reformat [1.9870009422302246, 0.5629997253417969, 0.5660004615783691, 0.574000358581543, 0.5330009460449219, 0.4979991912841797, 0.48599982261657715, 0.555999755859375, 0.5150017738342285, 0.5209999084472656, 0.4929990768432617, 0.5369994640350342, 0.489001989364624, 0.557999849319458, 0.5680005550384521, 0.5630002021789551, 0.5510001182556152, 0.5519993305206299, 0.5720007419586182, 0.5130009651184082, 0.5650005340576172, 0.4809999465942383, 0.5619990825653076, 0.49300122261047363, 0.554999828338623, 0.5599980354309082, 0.564000129699707, 0.5679998397827148, 0.5610001087188721, 0.5380008220672607, 0.5330002307891846, 0.5319998264312744, 0.5189995765686035, 0.5480005741119385, 0.48799943923950195, 0.5620009899139404, 0.564000129699707, 0.5709996223449707, 0.495999813079834, 0.5560009479522705, 0.575000524520874, 0.5100016593933105, 0.5709991455078125, 0.5140011310577393, 0.5650007724761963, 0.4789998531341553, 0.49500036239624023, 0.48999953269958496, 0.5019991397857666, 0.482999324798584]\n",
      "after reformat [0.563900146484375]\n",
      "showing resolution: (200, 160)\n",
      "end loop  0\n",
      "end loop  1\n",
      "end loop  2\n",
      "end loop  3\n",
      "end loop  4\n",
      "end loop  5\n",
      "end loop  6\n",
      "end loop  7\n",
      "end loop  8\n",
      "end loop  9\n",
      "end loop  10\n",
      "end loop  11\n",
      "end loop  12\n",
      "end loop  13\n",
      "end loop  14\n",
      "end loop  15\n",
      "end loop  16\n",
      "end loop  17\n",
      "end loop  18\n",
      "end loop  19\n",
      "end loop  20\n",
      "end loop  21\n",
      "end loop  22\n",
      "end loop  23\n",
      "end loop  24\n",
      "end loop  25\n",
      "end loop  26\n",
      "end loop  27\n",
      "end loop  28\n",
      "end loop  29\n",
      "end loop  30\n",
      "end loop  31\n",
      "end loop  32\n",
      "end loop  33\n",
      "end loop  34\n",
      "end loop  35\n",
      "end loop  36\n",
      "end loop  37\n",
      "end loop  38\n",
      "end loop  39\n",
      "end loop  40\n",
      "end loop  41\n",
      "end loop  42\n",
      "end loop  43\n",
      "end loop  44\n",
      "end loop  45\n",
      "end loop  46\n",
      "end loop  47\n",
      "end loop  48\n",
      "end loop  49\n",
      "before reformat [0.563900146484375, 0.5569987297058105, 0.49300050735473633, 0.5699987411499023, 0.5579993724822998, 0.535001277923584, 0.5829989910125732, 0.5429995059967041, 0.5839998722076416, 0.5169992446899414, 0.5530009269714355, 0.48400092124938965, 0.5229995250701904, 0.4850008487701416, 0.5560004711151123, 0.5729999542236328, 0.5689985752105713, 0.5319621562957764, 0.5470011234283447, 0.557999849319458, 0.5440011024475098, 0.5779998302459717, 0.4850008487701416, 0.5799996852874756, 0.5639996528625488, 0.568000316619873, 0.5580000877380371, 0.5589995384216309, 0.5900022983551025, 0.5520005226135254, 0.567000150680542, 0.4939994812011719, 0.5669991970062256, 0.5680015087127686, 0.5389993190765381, 0.5609989166259766, 0.49300074577331543, 0.5650005340576172, 0.5450005531311035, 0.5409996509552002, 0.4979996681213379, 0.5750012397766113, 0.4869999885559082, 0.574000358581543, 0.5460002422332764, 0.5599994659423828, 0.5509994029998779, 0.5649993419647217, 0.5839996337890625, 0.5420002937316895, 0.5659985542297363]\n",
      "after reformat [0.563900146484375, 0.5477192544937134]\n",
      "showing resolution: (320, 240)\n",
      "end loop  0\n",
      "end loop  1\n",
      "end loop  2\n",
      "end loop  3\n",
      "end loop  4\n",
      "end loop  5\n",
      "end loop  6\n",
      "end loop  7\n",
      "end loop  8\n",
      "end loop  9\n",
      "end loop  10\n",
      "end loop  11\n",
      "end loop  12\n",
      "end loop  13\n",
      "end loop  14\n",
      "end loop  15\n",
      "end loop  16\n",
      "end loop  17\n",
      "end loop  18\n",
      "end loop  19\n",
      "end loop  20\n",
      "end loop  21\n",
      "end loop  22\n",
      "end loop  23\n",
      "end loop  24\n",
      "end loop  25\n",
      "end loop  26\n",
      "end loop  27\n",
      "end loop  28\n",
      "end loop  29\n",
      "end loop  30\n",
      "end loop  31\n",
      "end loop  32\n",
      "end loop  33\n",
      "end loop  34\n",
      "end loop  35\n",
      "end loop  36\n",
      "end loop  37\n",
      "end loop  38\n",
      "end loop  39\n",
      "end loop  40\n",
      "end loop  41\n",
      "end loop  42\n",
      "end loop  43\n",
      "end loop  44\n",
      "end loop  45\n",
      "end loop  46\n",
      "end loop  47\n",
      "end loop  48\n",
      "end loop  49\n",
      "before reformat [0.563900146484375, 0.5477192544937134, 0.47700071334838867, 0.5570006370544434, 0.4940011501312256, 0.4889991283416748, 0.4999990463256836, 0.5390021800994873, 0.5230004787445068, 0.5010015964508057, 0.495999813079834, 0.5049996376037598, 0.5080006122589111, 0.5379998683929443, 0.49000000953674316, 0.4980003833770752, 0.4979996681213379, 0.5169994831085205, 0.555999755859375, 0.5429995059967041, 0.5590000152587891, 0.53999924659729, 0.4940018653869629, 0.5249991416931152, 0.559999942779541, 0.4849996566772461, 0.4930002689361572, 0.48399996757507324, 0.5629982948303223, 0.4980001449584961, 0.495999813079834, 0.49000024795532227, 0.49900102615356445, 0.49500060081481934, 0.5719995498657227, 0.5329995155334473, 0.4979991912841797, 0.5640017986297607, 0.5069992542266846, 0.509000301361084, 0.5060009956359863, 0.5129978656768799, 0.5429983139038086, 0.5659990310668945, 0.49500036239624023, 0.5010008811950684, 0.5059998035430908, 0.5759997367858887, 0.5030007362365723, 0.5869994163513184, 0.4889993667602539, 0.5739996433258057]\n",
      "after reformat [0.563900146484375, 0.5477192544937134, 0.5190399932861328]\n"
     ]
    },
    {
     "data": {
      "text/plain": "<Figure size 800x600 with 1 Axes>",
      "image/png": "[encoded data removed]"
     },
     "metadata": {},
     "output_type": "display_data"
    }
   ],
   "source": [
    "cap = cv2.VideoCapture(0)\n",
    "\n",
    "\n",
    "resolutions = [\n",
    "    (160, 120),\n",
    "    (200, 160),\n",
    "    (320, 240)\n",
    "    \n",
    "]\n",
    "fps_data = []\n",
    "time_data = []\n",
    "\n",
    "print('showing resolution:', resolution)\n",
    "cap.set(cv2.CAP_PROP_FRAME_WIDTH, resolution[0])\n",
    "cap.set(cv2.CAP_PROP_FRAME_HEIGHT, resolution[1])\n",
    "\n",
    "total_time = time.time()\n",
    "start_time = time.time()\n",
    "frame_count = 0\n",
    "frame_num = 0\n",
    "\n",
    "while true:\n",
    "    ret, frame = cap.read()  # Read a frame from the webcam\n",
    "\n",
    "    # Perform semantic segmentation inference on the frame\n",
    "    time1 = time.time()\n",
    "    output = ss.run(frame)  # Assuming ss.run() performs the segmentation\n",
    "    frame_count += 1\n",
    "    elapsed_time = time.time() - start_time\n",
    "    time2 = time.time()\n",
    "    time_data.append(time2 - time1)\n",
    "    \n",
    "    if elapsed_time > 1:\n",
    "        #fps = frame_count / elapsed_time\n",
    "        #fps_data.append(fps)\n",
    "        #fps_text = f\"FPS: {fps:.2f}\"\n",
    "        start_time = time.time()\n",
    "        frame_count = 0\n",
    "        #cv2.putText(output['img_overlay'], fps_text, (10, 30), cv2.FONT_HERSHEY_SIMPLEX, 1, (0, 255, 0), 2, cv2.LINE_AA)\n",
    "    \n",
    "    # Break the loop if 10 seconds have passed\n",
    "    if frame_num > MAX_FRAMES:\n",
    "        break\n",
    "    print(\"end loop \", frame_num)\n",
    "    frame_num += 1\n",
    "    \n",
    "\n",
    "    \n",
    "# Release the webcam and close windows\n",
    "cap.release()\n",
    "cv2.destroyAllWindows()\n"
   ]
  }
 ],
 "metadata": {
  "kernelspec": {
   "display_name": "Python 3 (ipykernel)",
   "language": "python",
   "name": "python3"
  },
  "language_info": {
   "codemirror_mode": {
    "name": "ipython",
    "version": 3
   },
   "file_extension": ".py",
   "mimetype": "text/x-python",
   "name": "python",
   "nbconvert_exporter": "python",
   "pygments_lexer": "ipython3",
   "version": "3.8.18"
  }
 },
 "nbformat": 4,
 "nbformat_minor": 4
}
