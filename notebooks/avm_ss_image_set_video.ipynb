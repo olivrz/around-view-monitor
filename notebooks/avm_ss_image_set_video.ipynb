{
 "cells": [
  {
   "cell_type": "markdown",
   "metadata": {},
   "source": [
    "# Semantic Segmentation for Around View Monitoring System"
   ]
  },
  {
   "cell_type": "markdown",
   "metadata": {},
   "source": [
    "## packages"
   ]
  },
  {
   "cell_type": "code",
   "execution_count": 9,
   "metadata": {
    "ExecuteTime": {
     "end_time": "2023-12-13T17:50:18.436582100Z",
     "start_time": "2023-12-13T17:50:18.420574400Z"
    }
   },
   "outputs": [],
   "source": [
    "import cv2, os\n",
    "from modules import sementic_segmentation"
   ]
  },
  {
   "cell_type": "markdown",
   "source": [],
   "metadata": {
    "collapsed": false
   }
  },
  {
   "cell_type": "markdown",
   "metadata": {},
   "source": [
    "## initialization"
   ]
  },
  {
   "cell_type": "code",
   "execution_count": 10,
   "metadata": {
    "scrolled": true,
    "ExecuteTime": {
     "end_time": "2023-12-13T17:50:21.451518800Z",
     "start_time": "2023-12-13T17:50:18.441871400Z"
    }
   },
   "outputs": [
    {
     "name": "stdout",
     "output_type": "stream",
     "text": [
      "[avm_ss] model graphs are built\n"
     ]
    }
   ],
   "source": [
    "# module initialization\n",
    "model_path = './models/model_v1_0.pb'\n",
    "ss = sementic_segmentation.avm_ss(model_path)\n",
    "images_directory = './library/frameset1'\n",
    "image_files = sorted([os.path.join(images_directory, file) for file in os.listdir(images_directory) if file.endswith(('.jpg', '.png', '.jpeg'))])\n",
    "\n",
    "output_video_path = 'output_video.avi'\n",
    "fps = 10\n",
    "\n",
    "if os.path.exists(output_video_path):\n",
    "    os.remove(output_video_path)\n",
    "\n",
    "video_width, video_height = cv2.imread(image_files[0]).shape[1], cv2.imread(image_files[0]).shape[0]\n",
    "fourcc = cv2.VideoWriter_fourcc(*'XVID')\n",
    "out = cv2.VideoWriter(output_video_path, fourcc, fps, (video_width, video_height))"
   ]
  },
  {
   "cell_type": "markdown",
   "metadata": {},
   "source": [
    "## inference"
   ]
  },
  {
   "cell_type": "code",
   "execution_count": 11,
   "metadata": {
    "ExecuteTime": {
     "end_time": "2023-12-13T17:50:44.424026800Z",
     "start_time": "2023-12-13T17:50:21.451518800Z"
    }
   },
   "outputs": [],
   "source": [
    "# Process each image, perform inference, and add to the video\n",
    "for img_name in image_files:\n",
    "    img = cv2.imread(img_name)\n",
    "\n",
    "    output = ss.run(img)\n",
    "    processed_img = output['img_overlay']\n",
    "    out.write(processed_img)\n",
    "\n",
    "# Release video writer\n",
    "out.release()\n",
    "\n"
   ]
  }
 ],
 "metadata": {
  "kernelspec": {
   "display_name": "Python 3 (ipykernel)",
   "language": "python",
   "name": "python3"
  },
  "language_info": {
   "codemirror_mode": {
    "name": "ipython",
    "version": 3
   },
   "file_extension": ".py",
   "mimetype": "text/x-python",
   "name": "python",
   "nbconvert_exporter": "python",
   "pygments_lexer": "ipython3",
   "version": "3.8.18"
  }
 },
 "nbformat": 4,
 "nbformat_minor": 4
}
