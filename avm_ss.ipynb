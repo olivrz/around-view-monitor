{
 "cells": [
  {
   "cell_type": "markdown",
   "metadata": {},
   "source": [
    "# Semantic Segmentation for Around View Monitoring System"
   ]
  },
  {
   "cell_type": "markdown",
   "metadata": {},
   "source": [
    "## packages"
   ]
  },
  {
   "cell_type": "code",
   "execution_count": 15,
   "metadata": {
    "ExecuteTime": {
     "end_time": "2023-11-03T20:48:44.268411800Z",
     "start_time": "2023-11-03T20:48:44.263410400Z"
    }
   },
   "outputs": [],
   "source": [
    "import cv2, os\n",
    "import numpy as np\n",
    "import matplotlib.pyplot as plt\n",
    "from modules import sementic_segmentation"
   ]
  },
  {
   "cell_type": "markdown",
   "metadata": {},
   "source": [
    "## initialization"
   ]
  },
  {
   "cell_type": "code",
   "execution_count": 16,
   "metadata": {
    "scrolled": true,
    "ExecuteTime": {
     "end_time": "2023-11-03T20:48:44.298411300Z",
     "start_time": "2023-11-03T20:48:44.268411800Z"
    }
   },
   "outputs": [
    {
     "ename": "AttributeError",
     "evalue": "module 'tensorflow' has no attribute 'gfile'",
     "output_type": "error",
     "traceback": [
      "\u001B[1;31m---------------------------------------------------------------------------\u001B[0m",
      "\u001B[1;31mAttributeError\u001B[0m                            Traceback (most recent call last)",
      "Cell \u001B[1;32mIn[16], line 3\u001B[0m\n\u001B[0;32m      1\u001B[0m \u001B[38;5;66;03m# module initialization\u001B[39;00m\n\u001B[0;32m      2\u001B[0m model_path \u001B[38;5;241m=\u001B[39m \u001B[38;5;124m'\u001B[39m\u001B[38;5;124m./models/model_v1_0.pb\u001B[39m\u001B[38;5;124m'\u001B[39m\n\u001B[1;32m----> 3\u001B[0m ss \u001B[38;5;241m=\u001B[39m \u001B[43msementic_segmentation\u001B[49m\u001B[38;5;241;43m.\u001B[39;49m\u001B[43mavm_ss\u001B[49m\u001B[43m(\u001B[49m\u001B[43mmodel_path\u001B[49m\u001B[43m)\u001B[49m\n",
      "File \u001B[1;32m~\\PycharmProjects\\around-view-monitor\\modules\\sementic_segmentation.py:9\u001B[0m, in \u001B[0;36mavm_ss.__init__\u001B[1;34m(self, filepath)\u001B[0m\n\u001B[0;32m      8\u001B[0m \u001B[38;5;28;01mdef\u001B[39;00m \u001B[38;5;21m__init__\u001B[39m(\u001B[38;5;28mself\u001B[39m, filepath):\n\u001B[1;32m----> 9\u001B[0m     \u001B[38;5;28mself\u001B[39m\u001B[38;5;241m.\u001B[39mgraph \u001B[38;5;241m=\u001B[39m \u001B[38;5;28;43mself\u001B[39;49m\u001B[38;5;241;43m.\u001B[39;49m\u001B[43mload_pb\u001B[49m\u001B[43m(\u001B[49m\u001B[43mfilepath\u001B[49m\u001B[43m)\u001B[49m\n\u001B[0;32m     10\u001B[0m     \u001B[38;5;28mself\u001B[39m\u001B[38;5;241m.\u001B[39moutput \u001B[38;5;241m=\u001B[39m \u001B[38;5;28mself\u001B[39m\u001B[38;5;241m.\u001B[39mgraph\u001B[38;5;241m.\u001B[39mget_tensor_by_name(\u001B[38;5;124m'\u001B[39m\u001B[38;5;124mdecoder/Softmax:0\u001B[39m\u001B[38;5;124m'\u001B[39m)\n\u001B[0;32m     11\u001B[0m     \u001B[38;5;28mself\u001B[39m\u001B[38;5;241m.\u001B[39minput \u001B[38;5;241m=\u001B[39m \u001B[38;5;28mself\u001B[39m\u001B[38;5;241m.\u001B[39mgraph\u001B[38;5;241m.\u001B[39mget_tensor_by_name(\u001B[38;5;124m'\u001B[39m\u001B[38;5;124mPlaceholder:0\u001B[39m\u001B[38;5;124m'\u001B[39m)    \n",
      "File \u001B[1;32m~\\PycharmProjects\\around-view-monitor\\modules\\sementic_segmentation.py:30\u001B[0m, in \u001B[0;36mavm_ss.load_pb\u001B[1;34m(self, pb)\u001B[0m\n\u001B[0;32m     29\u001B[0m \u001B[38;5;28;01mdef\u001B[39;00m \u001B[38;5;21mload_pb\u001B[39m(\u001B[38;5;28mself\u001B[39m, pb):\n\u001B[1;32m---> 30\u001B[0m     \u001B[38;5;28;01mwith\u001B[39;00m \u001B[43mtf\u001B[49m\u001B[38;5;241;43m.\u001B[39;49m\u001B[43mgfile\u001B[49m\u001B[38;5;241m.\u001B[39mGFile(pb, \u001B[38;5;124m\"\u001B[39m\u001B[38;5;124mrb\u001B[39m\u001B[38;5;124m\"\u001B[39m) \u001B[38;5;28;01mas\u001B[39;00m f:\n\u001B[0;32m     31\u001B[0m         graph_def \u001B[38;5;241m=\u001B[39m tf\u001B[38;5;241m.\u001B[39mGraphDef()\n\u001B[0;32m     32\u001B[0m         graph_def\u001B[38;5;241m.\u001B[39mParseFromString(f\u001B[38;5;241m.\u001B[39mread())\n",
      "\u001B[1;31mAttributeError\u001B[0m: module 'tensorflow' has no attribute 'gfile'"
     ]
    }
   ],
   "source": [
    "# module initialization\n",
    "model_path = './models/model_v1_0.pb'\n",
    "ss = sementic_segmentation.avm_ss(model_path)"
   ]
  },
  {
   "cell_type": "markdown",
   "metadata": {},
   "source": [
    "## inference"
   ]
  },
  {
   "cell_type": "code",
   "execution_count": null,
   "metadata": {
    "ExecuteTime": {
     "end_time": "2023-11-03T20:48:44.304410300Z",
     "start_time": "2023-11-03T20:48:44.304410300Z"
    }
   },
   "outputs": [],
   "source": [
    "img_name = './image/image.jpg'   \n",
    "img = cv2.imread(img_name)\n",
    "\n",
    "output = ss.run(img)\n",
    "\n",
    "plt.figure(figsize=(16,8))\n",
    "\n",
    "plt.subplot(1,2,1)\n",
    "plt.imshow(output['img_avm'])\n",
    "plt.axis('off')\n",
    "\n",
    "plt.subplot(1,2,2)\n",
    "plt.imshow(output['img_overlay'])\n",
    "plt.axis('off')"
   ]
  }
 ],
 "metadata": {
  "kernelspec": {
   "display_name": "Python 3 (ipykernel)",
   "language": "python",
   "name": "python3"
  },
  "language_info": {
   "codemirror_mode": {
    "name": "ipython",
    "version": 3
   },
   "file_extension": ".py",
   "mimetype": "text/x-python",
   "name": "python",
   "nbconvert_exporter": "python",
   "pygments_lexer": "ipython3",
   "version": "3.8.18"
  }
 },
 "nbformat": 4,
 "nbformat_minor": 4
}
